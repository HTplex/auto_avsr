{
 "cells": [
  {
   "cell_type": "code",
   "execution_count": 7,
   "id": "774d3e70-79e1-4b45-bb11-7599fbe19593",
   "metadata": {},
   "outputs": [
    {
     "name": "stdout",
     "output_type": "stream",
     "text": [
      "1321\n",
      "['/home/agent_h/data/datasets/facetalk_lrs3_v2/video/test_000000/0Fi83BHQsMA_00002.mp4', '/home/agent_h/data/datasets/facetalk_lrs3_v2/video/test_000000/0Fi83BHQsMA_00004.mp4', '/home/agent_h/data/datasets/facetalk_lrs3_v2/video/test_000000/0Fi83BHQsMA_00005.mp4', '/home/agent_h/data/datasets/facetalk_lrs3_v2/video/test_000000/0Fi83BHQsMA_00006.mp4', '/home/agent_h/data/datasets/facetalk_lrs3_v2/video/test_000000/0QVXdEOiCw8_00001.mp4', '/home/agent_h/data/datasets/facetalk_lrs3_v2/video/test_000000/0VJqrlH9cdI_00001.mp4', '/home/agent_h/data/datasets/facetalk_lrs3_v2/video/test_000000/0VJqrlH9cdI_00002.mp4', '/home/agent_h/data/datasets/facetalk_lrs3_v2/video/test_000000/0ZfSOArXbGQ_00001.mp4', '/home/agent_h/data/datasets/facetalk_lrs3_v2/video/test_000000/0ZfSOArXbGQ_00002.mp4', '/home/agent_h/data/datasets/facetalk_lrs3_v2/video/test_000000/0ZfSOArXbGQ_00003.mp4']\n"
     ]
    }
   ],
   "source": [
    "from glob import glob\n",
    "from pprint import pprint\n",
    "video_paths = sorted(glob(\"/home/agent_h/data/datasets/facetalk_lrs3_v2/video/test_000000/*.mp4\"))\n",
    "text_paths = sorted(glob(\"/home/agent_h/data/datasets/facetalk_lrs3_v2/text/test_000000/*.txt\"))\n",
    "\n",
    "print(len(video_paths))\n",
    "print(video_paths[:10])\n",
    "\n",
    "          "
   ]
  },
  {
   "cell_type": "code",
   "execution_count": 14,
   "id": "ee0ac544-5d17-4f2c-80fc-6da33674abeb",
   "metadata": {},
   "outputs": [],
   "source": [
    "import pandas\n",
    "csv_path = \"/home/agent_h/data/datasets/autoavsr_lrs3_train/labels/lrs3_train_transcript_lengths_seg16s.csv\"\n",
    "csv_path = \"/home/agent_h/data/datasets/autoavsr_lrs3_test/labels/lrs3_test_transcript_lengths_seg16s.csv\"\n",
    "\n",
    "tmp_df = pandas.read_csv(csv_path)\n",
    "dicts = tmp_df.to_dict('records')"
   ]
  },
  {
   "cell_type": "code",
   "execution_count": 17,
   "id": "36a80b36-f04d-4944-a79c-fe4ee2649a79",
   "metadata": {},
   "outputs": [
    {
     "name": "stdout",
     "output_type": "stream",
     "text": [
      "{'lrs3': 'lrs3', 'lrs3_video_seg16s/test/Sbm98rrVZzE/00001.mp4': 'lrs3_video_seg16s/test/YyXRYgjQXX0/00013.mp4', '27': 67, '1063 2550 3231 5037 2456': '4590 2 302 4056 2550 2 309 4469 1066 544 1054 3327 4244 407 713 4154 407'}\n",
      "14\n"
     ]
    }
   ],
   "source": [
    "print(dicts[0])\n",
    "lengths = [x['27'] for x in dicts]\n",
    "print(min(lengths))"
   ]
  },
  {
   "cell_type": "code",
   "execution_count": 19,
   "id": "52ee154c-b8bf-436a-9b7a-b3f3cdee64b7",
   "metadata": {},
   "outputs": [
    {
     "name": "stdout",
     "output_type": "stream",
     "text": [
      "python preprocess_lrs2lrs3.py --data-dir /home/agent_h/data/datasets/lrs3/ --landmarks-dir /home/agent_h/data/datasets/LRS3_landmarks/ --detector retinaface --root-dir /home/agent_h/data/datasets/autoavsr_lrs3 --dataset lrs3 --gpu_type cuda --subset train --seg-duration 16 --groups 64 --job-index 0 &\n",
      "python preprocess_lrs2lrs3.py --data-dir /home/agent_h/data/datasets/lrs3/ --landmarks-dir /home/agent_h/data/datasets/LRS3_landmarks/ --detector retinaface --root-dir /home/agent_h/data/datasets/autoavsr_lrs3 --dataset lrs3 --gpu_type cuda --subset train --seg-duration 16 --groups 64 --job-index 1 &\n",
      "python preprocess_lrs2lrs3.py --data-dir /home/agent_h/data/datasets/lrs3/ --landmarks-dir /home/agent_h/data/datasets/LRS3_landmarks/ --detector retinaface --root-dir /home/agent_h/data/datasets/autoavsr_lrs3 --dataset lrs3 --gpu_type cuda --subset train --seg-duration 16 --groups 64 --job-index 2 &\n",
      "python preprocess_lrs2lrs3.py --data-dir /home/agent_h/data/datasets/lrs3/ --landmarks-dir /home/agent_h/data/datasets/LRS3_landmarks/ --detector retinaface --root-dir /home/agent_h/data/datasets/autoavsr_lrs3 --dataset lrs3 --gpu_type cuda --subset train --seg-duration 16 --groups 64 --job-index 3 &\n",
      "python preprocess_lrs2lrs3.py --data-dir /home/agent_h/data/datasets/lrs3/ --landmarks-dir /home/agent_h/data/datasets/LRS3_landmarks/ --detector retinaface --root-dir /home/agent_h/data/datasets/autoavsr_lrs3 --dataset lrs3 --gpu_type cuda --subset train --seg-duration 16 --groups 64 --job-index 4 &\n",
      "python preprocess_lrs2lrs3.py --data-dir /home/agent_h/data/datasets/lrs3/ --landmarks-dir /home/agent_h/data/datasets/LRS3_landmarks/ --detector retinaface --root-dir /home/agent_h/data/datasets/autoavsr_lrs3 --dataset lrs3 --gpu_type cuda --subset train --seg-duration 16 --groups 64 --job-index 5 &\n",
      "python preprocess_lrs2lrs3.py --data-dir /home/agent_h/data/datasets/lrs3/ --landmarks-dir /home/agent_h/data/datasets/LRS3_landmarks/ --detector retinaface --root-dir /home/agent_h/data/datasets/autoavsr_lrs3 --dataset lrs3 --gpu_type cuda --subset train --seg-duration 16 --groups 64 --job-index 6 &\n",
      "python preprocess_lrs2lrs3.py --data-dir /home/agent_h/data/datasets/lrs3/ --landmarks-dir /home/agent_h/data/datasets/LRS3_landmarks/ --detector retinaface --root-dir /home/agent_h/data/datasets/autoavsr_lrs3 --dataset lrs3 --gpu_type cuda --subset train --seg-duration 16 --groups 64 --job-index 7 &\n",
      "python preprocess_lrs2lrs3.py --data-dir /home/agent_h/data/datasets/lrs3/ --landmarks-dir /home/agent_h/data/datasets/LRS3_landmarks/ --detector retinaface --root-dir /home/agent_h/data/datasets/autoavsr_lrs3 --dataset lrs3 --gpu_type cuda --subset train --seg-duration 16 --groups 64 --job-index 8 &\n",
      "python preprocess_lrs2lrs3.py --data-dir /home/agent_h/data/datasets/lrs3/ --landmarks-dir /home/agent_h/data/datasets/LRS3_landmarks/ --detector retinaface --root-dir /home/agent_h/data/datasets/autoavsr_lrs3 --dataset lrs3 --gpu_type cuda --subset train --seg-duration 16 --groups 64 --job-index 9 &\n",
      "python preprocess_lrs2lrs3.py --data-dir /home/agent_h/data/datasets/lrs3/ --landmarks-dir /home/agent_h/data/datasets/LRS3_landmarks/ --detector retinaface --root-dir /home/agent_h/data/datasets/autoavsr_lrs3 --dataset lrs3 --gpu_type cuda --subset train --seg-duration 16 --groups 64 --job-index 10 &\n",
      "python preprocess_lrs2lrs3.py --data-dir /home/agent_h/data/datasets/lrs3/ --landmarks-dir /home/agent_h/data/datasets/LRS3_landmarks/ --detector retinaface --root-dir /home/agent_h/data/datasets/autoavsr_lrs3 --dataset lrs3 --gpu_type cuda --subset train --seg-duration 16 --groups 64 --job-index 11 &\n",
      "python preprocess_lrs2lrs3.py --data-dir /home/agent_h/data/datasets/lrs3/ --landmarks-dir /home/agent_h/data/datasets/LRS3_landmarks/ --detector retinaface --root-dir /home/agent_h/data/datasets/autoavsr_lrs3 --dataset lrs3 --gpu_type cuda --subset train --seg-duration 16 --groups 64 --job-index 12 &\n",
      "python preprocess_lrs2lrs3.py --data-dir /home/agent_h/data/datasets/lrs3/ --landmarks-dir /home/agent_h/data/datasets/LRS3_landmarks/ --detector retinaface --root-dir /home/agent_h/data/datasets/autoavsr_lrs3 --dataset lrs3 --gpu_type cuda --subset train --seg-duration 16 --groups 64 --job-index 13 &\n",
      "python preprocess_lrs2lrs3.py --data-dir /home/agent_h/data/datasets/lrs3/ --landmarks-dir /home/agent_h/data/datasets/LRS3_landmarks/ --detector retinaface --root-dir /home/agent_h/data/datasets/autoavsr_lrs3 --dataset lrs3 --gpu_type cuda --subset train --seg-duration 16 --groups 64 --job-index 14 &\n",
      "python preprocess_lrs2lrs3.py --data-dir /home/agent_h/data/datasets/lrs3/ --landmarks-dir /home/agent_h/data/datasets/LRS3_landmarks/ --detector retinaface --root-dir /home/agent_h/data/datasets/autoavsr_lrs3 --dataset lrs3 --gpu_type cuda --subset train --seg-duration 16 --groups 64 --job-index 15 &\n",
      "python preprocess_lrs2lrs3.py --data-dir /home/agent_h/data/datasets/lrs3/ --landmarks-dir /home/agent_h/data/datasets/LRS3_landmarks/ --detector retinaface --root-dir /home/agent_h/data/datasets/autoavsr_lrs3 --dataset lrs3 --gpu_type cuda --subset train --seg-duration 16 --groups 64 --job-index 16 &\n",
      "python preprocess_lrs2lrs3.py --data-dir /home/agent_h/data/datasets/lrs3/ --landmarks-dir /home/agent_h/data/datasets/LRS3_landmarks/ --detector retinaface --root-dir /home/agent_h/data/datasets/autoavsr_lrs3 --dataset lrs3 --gpu_type cuda --subset train --seg-duration 16 --groups 64 --job-index 17 &\n",
      "python preprocess_lrs2lrs3.py --data-dir /home/agent_h/data/datasets/lrs3/ --landmarks-dir /home/agent_h/data/datasets/LRS3_landmarks/ --detector retinaface --root-dir /home/agent_h/data/datasets/autoavsr_lrs3 --dataset lrs3 --gpu_type cuda --subset train --seg-duration 16 --groups 64 --job-index 18 &\n",
      "python preprocess_lrs2lrs3.py --data-dir /home/agent_h/data/datasets/lrs3/ --landmarks-dir /home/agent_h/data/datasets/LRS3_landmarks/ --detector retinaface --root-dir /home/agent_h/data/datasets/autoavsr_lrs3 --dataset lrs3 --gpu_type cuda --subset train --seg-duration 16 --groups 64 --job-index 19 &\n",
      "python preprocess_lrs2lrs3.py --data-dir /home/agent_h/data/datasets/lrs3/ --landmarks-dir /home/agent_h/data/datasets/LRS3_landmarks/ --detector retinaface --root-dir /home/agent_h/data/datasets/autoavsr_lrs3 --dataset lrs3 --gpu_type cuda --subset train --seg-duration 16 --groups 64 --job-index 20 &\n",
      "python preprocess_lrs2lrs3.py --data-dir /home/agent_h/data/datasets/lrs3/ --landmarks-dir /home/agent_h/data/datasets/LRS3_landmarks/ --detector retinaface --root-dir /home/agent_h/data/datasets/autoavsr_lrs3 --dataset lrs3 --gpu_type cuda --subset train --seg-duration 16 --groups 64 --job-index 21 &\n",
      "python preprocess_lrs2lrs3.py --data-dir /home/agent_h/data/datasets/lrs3/ --landmarks-dir /home/agent_h/data/datasets/LRS3_landmarks/ --detector retinaface --root-dir /home/agent_h/data/datasets/autoavsr_lrs3 --dataset lrs3 --gpu_type cuda --subset train --seg-duration 16 --groups 64 --job-index 22 &\n",
      "python preprocess_lrs2lrs3.py --data-dir /home/agent_h/data/datasets/lrs3/ --landmarks-dir /home/agent_h/data/datasets/LRS3_landmarks/ --detector retinaface --root-dir /home/agent_h/data/datasets/autoavsr_lrs3 --dataset lrs3 --gpu_type cuda --subset train --seg-duration 16 --groups 64 --job-index 23 &\n",
      "python preprocess_lrs2lrs3.py --data-dir /home/agent_h/data/datasets/lrs3/ --landmarks-dir /home/agent_h/data/datasets/LRS3_landmarks/ --detector retinaface --root-dir /home/agent_h/data/datasets/autoavsr_lrs3 --dataset lrs3 --gpu_type cuda --subset train --seg-duration 16 --groups 64 --job-index 24 &\n",
      "python preprocess_lrs2lrs3.py --data-dir /home/agent_h/data/datasets/lrs3/ --landmarks-dir /home/agent_h/data/datasets/LRS3_landmarks/ --detector retinaface --root-dir /home/agent_h/data/datasets/autoavsr_lrs3 --dataset lrs3 --gpu_type cuda --subset train --seg-duration 16 --groups 64 --job-index 25 &\n",
      "python preprocess_lrs2lrs3.py --data-dir /home/agent_h/data/datasets/lrs3/ --landmarks-dir /home/agent_h/data/datasets/LRS3_landmarks/ --detector retinaface --root-dir /home/agent_h/data/datasets/autoavsr_lrs3 --dataset lrs3 --gpu_type cuda --subset train --seg-duration 16 --groups 64 --job-index 26 &\n",
      "python preprocess_lrs2lrs3.py --data-dir /home/agent_h/data/datasets/lrs3/ --landmarks-dir /home/agent_h/data/datasets/LRS3_landmarks/ --detector retinaface --root-dir /home/agent_h/data/datasets/autoavsr_lrs3 --dataset lrs3 --gpu_type cuda --subset train --seg-duration 16 --groups 64 --job-index 27 &\n",
      "python preprocess_lrs2lrs3.py --data-dir /home/agent_h/data/datasets/lrs3/ --landmarks-dir /home/agent_h/data/datasets/LRS3_landmarks/ --detector retinaface --root-dir /home/agent_h/data/datasets/autoavsr_lrs3 --dataset lrs3 --gpu_type cuda --subset train --seg-duration 16 --groups 64 --job-index 28 &\n",
      "python preprocess_lrs2lrs3.py --data-dir /home/agent_h/data/datasets/lrs3/ --landmarks-dir /home/agent_h/data/datasets/LRS3_landmarks/ --detector retinaface --root-dir /home/agent_h/data/datasets/autoavsr_lrs3 --dataset lrs3 --gpu_type cuda --subset train --seg-duration 16 --groups 64 --job-index 29 &\n",
      "python preprocess_lrs2lrs3.py --data-dir /home/agent_h/data/datasets/lrs3/ --landmarks-dir /home/agent_h/data/datasets/LRS3_landmarks/ --detector retinaface --root-dir /home/agent_h/data/datasets/autoavsr_lrs3 --dataset lrs3 --gpu_type cuda --subset train --seg-duration 16 --groups 64 --job-index 30 &\n",
      "python preprocess_lrs2lrs3.py --data-dir /home/agent_h/data/datasets/lrs3/ --landmarks-dir /home/agent_h/data/datasets/LRS3_landmarks/ --detector retinaface --root-dir /home/agent_h/data/datasets/autoavsr_lrs3 --dataset lrs3 --gpu_type cuda --subset train --seg-duration 16 --groups 64 --job-index 31 &\n",
      "python preprocess_lrs2lrs3.py --data-dir /home/agent_h/data/datasets/lrs3/ --landmarks-dir /home/agent_h/data/datasets/LRS3_landmarks/ --detector retinaface --root-dir /home/agent_h/data/datasets/autoavsr_lrs3 --dataset lrs3 --gpu_type cuda --subset train --seg-duration 16 --groups 64 --job-index 32 &\n",
      "python preprocess_lrs2lrs3.py --data-dir /home/agent_h/data/datasets/lrs3/ --landmarks-dir /home/agent_h/data/datasets/LRS3_landmarks/ --detector retinaface --root-dir /home/agent_h/data/datasets/autoavsr_lrs3 --dataset lrs3 --gpu_type cuda --subset train --seg-duration 16 --groups 64 --job-index 33 &\n",
      "python preprocess_lrs2lrs3.py --data-dir /home/agent_h/data/datasets/lrs3/ --landmarks-dir /home/agent_h/data/datasets/LRS3_landmarks/ --detector retinaface --root-dir /home/agent_h/data/datasets/autoavsr_lrs3 --dataset lrs3 --gpu_type cuda --subset train --seg-duration 16 --groups 64 --job-index 34 &\n",
      "python preprocess_lrs2lrs3.py --data-dir /home/agent_h/data/datasets/lrs3/ --landmarks-dir /home/agent_h/data/datasets/LRS3_landmarks/ --detector retinaface --root-dir /home/agent_h/data/datasets/autoavsr_lrs3 --dataset lrs3 --gpu_type cuda --subset train --seg-duration 16 --groups 64 --job-index 35 &\n",
      "python preprocess_lrs2lrs3.py --data-dir /home/agent_h/data/datasets/lrs3/ --landmarks-dir /home/agent_h/data/datasets/LRS3_landmarks/ --detector retinaface --root-dir /home/agent_h/data/datasets/autoavsr_lrs3 --dataset lrs3 --gpu_type cuda --subset train --seg-duration 16 --groups 64 --job-index 36 &\n",
      "python preprocess_lrs2lrs3.py --data-dir /home/agent_h/data/datasets/lrs3/ --landmarks-dir /home/agent_h/data/datasets/LRS3_landmarks/ --detector retinaface --root-dir /home/agent_h/data/datasets/autoavsr_lrs3 --dataset lrs3 --gpu_type cuda --subset train --seg-duration 16 --groups 64 --job-index 37 &\n",
      "python preprocess_lrs2lrs3.py --data-dir /home/agent_h/data/datasets/lrs3/ --landmarks-dir /home/agent_h/data/datasets/LRS3_landmarks/ --detector retinaface --root-dir /home/agent_h/data/datasets/autoavsr_lrs3 --dataset lrs3 --gpu_type cuda --subset train --seg-duration 16 --groups 64 --job-index 38 &\n",
      "python preprocess_lrs2lrs3.py --data-dir /home/agent_h/data/datasets/lrs3/ --landmarks-dir /home/agent_h/data/datasets/LRS3_landmarks/ --detector retinaface --root-dir /home/agent_h/data/datasets/autoavsr_lrs3 --dataset lrs3 --gpu_type cuda --subset train --seg-duration 16 --groups 64 --job-index 39 &\n",
      "python preprocess_lrs2lrs3.py --data-dir /home/agent_h/data/datasets/lrs3/ --landmarks-dir /home/agent_h/data/datasets/LRS3_landmarks/ --detector retinaface --root-dir /home/agent_h/data/datasets/autoavsr_lrs3 --dataset lrs3 --gpu_type cuda --subset train --seg-duration 16 --groups 64 --job-index 40 &\n",
      "python preprocess_lrs2lrs3.py --data-dir /home/agent_h/data/datasets/lrs3/ --landmarks-dir /home/agent_h/data/datasets/LRS3_landmarks/ --detector retinaface --root-dir /home/agent_h/data/datasets/autoavsr_lrs3 --dataset lrs3 --gpu_type cuda --subset train --seg-duration 16 --groups 64 --job-index 41 &\n",
      "python preprocess_lrs2lrs3.py --data-dir /home/agent_h/data/datasets/lrs3/ --landmarks-dir /home/agent_h/data/datasets/LRS3_landmarks/ --detector retinaface --root-dir /home/agent_h/data/datasets/autoavsr_lrs3 --dataset lrs3 --gpu_type cuda --subset train --seg-duration 16 --groups 64 --job-index 42 &\n",
      "python preprocess_lrs2lrs3.py --data-dir /home/agent_h/data/datasets/lrs3/ --landmarks-dir /home/agent_h/data/datasets/LRS3_landmarks/ --detector retinaface --root-dir /home/agent_h/data/datasets/autoavsr_lrs3 --dataset lrs3 --gpu_type cuda --subset train --seg-duration 16 --groups 64 --job-index 43 &\n",
      "python preprocess_lrs2lrs3.py --data-dir /home/agent_h/data/datasets/lrs3/ --landmarks-dir /home/agent_h/data/datasets/LRS3_landmarks/ --detector retinaface --root-dir /home/agent_h/data/datasets/autoavsr_lrs3 --dataset lrs3 --gpu_type cuda --subset train --seg-duration 16 --groups 64 --job-index 44 &\n",
      "python preprocess_lrs2lrs3.py --data-dir /home/agent_h/data/datasets/lrs3/ --landmarks-dir /home/agent_h/data/datasets/LRS3_landmarks/ --detector retinaface --root-dir /home/agent_h/data/datasets/autoavsr_lrs3 --dataset lrs3 --gpu_type cuda --subset train --seg-duration 16 --groups 64 --job-index 45 &\n",
      "python preprocess_lrs2lrs3.py --data-dir /home/agent_h/data/datasets/lrs3/ --landmarks-dir /home/agent_h/data/datasets/LRS3_landmarks/ --detector retinaface --root-dir /home/agent_h/data/datasets/autoavsr_lrs3 --dataset lrs3 --gpu_type cuda --subset train --seg-duration 16 --groups 64 --job-index 46 &\n",
      "python preprocess_lrs2lrs3.py --data-dir /home/agent_h/data/datasets/lrs3/ --landmarks-dir /home/agent_h/data/datasets/LRS3_landmarks/ --detector retinaface --root-dir /home/agent_h/data/datasets/autoavsr_lrs3 --dataset lrs3 --gpu_type cuda --subset train --seg-duration 16 --groups 64 --job-index 47 &\n",
      "python preprocess_lrs2lrs3.py --data-dir /home/agent_h/data/datasets/lrs3/ --landmarks-dir /home/agent_h/data/datasets/LRS3_landmarks/ --detector retinaface --root-dir /home/agent_h/data/datasets/autoavsr_lrs3 --dataset lrs3 --gpu_type cuda --subset train --seg-duration 16 --groups 64 --job-index 48 &\n",
      "python preprocess_lrs2lrs3.py --data-dir /home/agent_h/data/datasets/lrs3/ --landmarks-dir /home/agent_h/data/datasets/LRS3_landmarks/ --detector retinaface --root-dir /home/agent_h/data/datasets/autoavsr_lrs3 --dataset lrs3 --gpu_type cuda --subset train --seg-duration 16 --groups 64 --job-index 49 &\n",
      "python preprocess_lrs2lrs3.py --data-dir /home/agent_h/data/datasets/lrs3/ --landmarks-dir /home/agent_h/data/datasets/LRS3_landmarks/ --detector retinaface --root-dir /home/agent_h/data/datasets/autoavsr_lrs3 --dataset lrs3 --gpu_type cuda --subset train --seg-duration 16 --groups 64 --job-index 50 &\n",
      "python preprocess_lrs2lrs3.py --data-dir /home/agent_h/data/datasets/lrs3/ --landmarks-dir /home/agent_h/data/datasets/LRS3_landmarks/ --detector retinaface --root-dir /home/agent_h/data/datasets/autoavsr_lrs3 --dataset lrs3 --gpu_type cuda --subset train --seg-duration 16 --groups 64 --job-index 51 &\n",
      "python preprocess_lrs2lrs3.py --data-dir /home/agent_h/data/datasets/lrs3/ --landmarks-dir /home/agent_h/data/datasets/LRS3_landmarks/ --detector retinaface --root-dir /home/agent_h/data/datasets/autoavsr_lrs3 --dataset lrs3 --gpu_type cuda --subset train --seg-duration 16 --groups 64 --job-index 52 &\n",
      "python preprocess_lrs2lrs3.py --data-dir /home/agent_h/data/datasets/lrs3/ --landmarks-dir /home/agent_h/data/datasets/LRS3_landmarks/ --detector retinaface --root-dir /home/agent_h/data/datasets/autoavsr_lrs3 --dataset lrs3 --gpu_type cuda --subset train --seg-duration 16 --groups 64 --job-index 53 &\n",
      "python preprocess_lrs2lrs3.py --data-dir /home/agent_h/data/datasets/lrs3/ --landmarks-dir /home/agent_h/data/datasets/LRS3_landmarks/ --detector retinaface --root-dir /home/agent_h/data/datasets/autoavsr_lrs3 --dataset lrs3 --gpu_type cuda --subset train --seg-duration 16 --groups 64 --job-index 54 &\n",
      "python preprocess_lrs2lrs3.py --data-dir /home/agent_h/data/datasets/lrs3/ --landmarks-dir /home/agent_h/data/datasets/LRS3_landmarks/ --detector retinaface --root-dir /home/agent_h/data/datasets/autoavsr_lrs3 --dataset lrs3 --gpu_type cuda --subset train --seg-duration 16 --groups 64 --job-index 55 &\n",
      "python preprocess_lrs2lrs3.py --data-dir /home/agent_h/data/datasets/lrs3/ --landmarks-dir /home/agent_h/data/datasets/LRS3_landmarks/ --detector retinaface --root-dir /home/agent_h/data/datasets/autoavsr_lrs3 --dataset lrs3 --gpu_type cuda --subset train --seg-duration 16 --groups 64 --job-index 56 &\n",
      "python preprocess_lrs2lrs3.py --data-dir /home/agent_h/data/datasets/lrs3/ --landmarks-dir /home/agent_h/data/datasets/LRS3_landmarks/ --detector retinaface --root-dir /home/agent_h/data/datasets/autoavsr_lrs3 --dataset lrs3 --gpu_type cuda --subset train --seg-duration 16 --groups 64 --job-index 57 &\n",
      "python preprocess_lrs2lrs3.py --data-dir /home/agent_h/data/datasets/lrs3/ --landmarks-dir /home/agent_h/data/datasets/LRS3_landmarks/ --detector retinaface --root-dir /home/agent_h/data/datasets/autoavsr_lrs3 --dataset lrs3 --gpu_type cuda --subset train --seg-duration 16 --groups 64 --job-index 58 &\n",
      "python preprocess_lrs2lrs3.py --data-dir /home/agent_h/data/datasets/lrs3/ --landmarks-dir /home/agent_h/data/datasets/LRS3_landmarks/ --detector retinaface --root-dir /home/agent_h/data/datasets/autoavsr_lrs3 --dataset lrs3 --gpu_type cuda --subset train --seg-duration 16 --groups 64 --job-index 59 &\n",
      "python preprocess_lrs2lrs3.py --data-dir /home/agent_h/data/datasets/lrs3/ --landmarks-dir /home/agent_h/data/datasets/LRS3_landmarks/ --detector retinaface --root-dir /home/agent_h/data/datasets/autoavsr_lrs3 --dataset lrs3 --gpu_type cuda --subset train --seg-duration 16 --groups 64 --job-index 60 &\n",
      "python preprocess_lrs2lrs3.py --data-dir /home/agent_h/data/datasets/lrs3/ --landmarks-dir /home/agent_h/data/datasets/LRS3_landmarks/ --detector retinaface --root-dir /home/agent_h/data/datasets/autoavsr_lrs3 --dataset lrs3 --gpu_type cuda --subset train --seg-duration 16 --groups 64 --job-index 61 &\n",
      "python preprocess_lrs2lrs3.py --data-dir /home/agent_h/data/datasets/lrs3/ --landmarks-dir /home/agent_h/data/datasets/LRS3_landmarks/ --detector retinaface --root-dir /home/agent_h/data/datasets/autoavsr_lrs3 --dataset lrs3 --gpu_type cuda --subset train --seg-duration 16 --groups 64 --job-index 62 &\n",
      "python preprocess_lrs2lrs3.py --data-dir /home/agent_h/data/datasets/lrs3/ --landmarks-dir /home/agent_h/data/datasets/LRS3_landmarks/ --detector retinaface --root-dir /home/agent_h/data/datasets/autoavsr_lrs3 --dataset lrs3 --gpu_type cuda --subset train --seg-duration 16 --groups 64 --job-index 63 &\n"
     ]
    }
   ],
   "source": [
    "video_path = \"/home/agent_h/data/datasets/facetalk_lrs3_v2/video/test_000000/0ZfSOArXbGQ_00003.mp4\"\n",
    "for i in range(64):\n",
    "    print(f\"python preprocess_lrs2lrs3.py --data-dir /home/agent_h/data/datasets/lrs3/ --landmarks-dir /home/agent_h/data/datasets/LRS3_landmarks/ --detector retinaface --root-dir /home/agent_h/data/datasets/autoavsr_lrs3 --dataset lrs3 --gpu_type cuda --subset train --seg-duration 16 --groups 64 --job-index {i} &\")\n",
    "\n",
    "    "
   ]
  },
  {
   "cell_type": "code",
   "execution_count": null,
   "id": "48acf109-61b3-4cbd-b94d-ef8d6ca23014",
   "metadata": {},
   "outputs": [],
   "source": []
  }
 ],
 "metadata": {
  "kernelspec": {
   "display_name": "Python 3 (ipykernel)",
   "language": "python",
   "name": "python3"
  },
  "language_info": {
   "codemirror_mode": {
    "name": "ipython",
    "version": 3
   },
   "file_extension": ".py",
   "mimetype": "text/x-python",
   "name": "python",
   "nbconvert_exporter": "python",
   "pygments_lexer": "ipython3",
   "version": "3.12.7"
  }
 },
 "nbformat": 4,
 "nbformat_minor": 5
}
