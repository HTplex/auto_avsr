{
 "cells": [
  {
   "cell_type": "code",
   "execution_count": 7,
   "id": "774d3e70-79e1-4b45-bb11-7599fbe19593",
   "metadata": {},
   "outputs": [
    {
     "name": "stdout",
     "output_type": "stream",
     "text": [
      "1321\n",
      "['/home/agent_h/data/datasets/facetalk_lrs3_v2/video/test_000000/0Fi83BHQsMA_00002.mp4', '/home/agent_h/data/datasets/facetalk_lrs3_v2/video/test_000000/0Fi83BHQsMA_00004.mp4', '/home/agent_h/data/datasets/facetalk_lrs3_v2/video/test_000000/0Fi83BHQsMA_00005.mp4', '/home/agent_h/data/datasets/facetalk_lrs3_v2/video/test_000000/0Fi83BHQsMA_00006.mp4', '/home/agent_h/data/datasets/facetalk_lrs3_v2/video/test_000000/0QVXdEOiCw8_00001.mp4', '/home/agent_h/data/datasets/facetalk_lrs3_v2/video/test_000000/0VJqrlH9cdI_00001.mp4', '/home/agent_h/data/datasets/facetalk_lrs3_v2/video/test_000000/0VJqrlH9cdI_00002.mp4', '/home/agent_h/data/datasets/facetalk_lrs3_v2/video/test_000000/0ZfSOArXbGQ_00001.mp4', '/home/agent_h/data/datasets/facetalk_lrs3_v2/video/test_000000/0ZfSOArXbGQ_00002.mp4', '/home/agent_h/data/datasets/facetalk_lrs3_v2/video/test_000000/0ZfSOArXbGQ_00003.mp4']\n"
     ]
    }
   ],
   "source": [
    "from glob import glob\n",
    "from pprint import pprint\n",
    "video_paths = sorted(glob(\"/home/agent_h/data/datasets/facetalk_lrs3_v2/video/test_000000/*.mp4\"))\n",
    "text_paths = sorted(glob(\"/home/agent_h/data/datasets/facetalk_lrs3_v2/text/test_000000/*.txt\"))\n",
    "\n",
    "print(len(video_paths))\n",
    "print(video_paths[:10])\n",
    "\n",
    "          "
   ]
  },
  {
   "cell_type": "code",
   "execution_count": 14,
   "id": "ee0ac544-5d17-4f2c-80fc-6da33674abeb",
   "metadata": {},
   "outputs": [],
   "source": [
    "import pandas\n",
    "csv_path = \"/home/agent_h/data/datasets/autoavsr_lrs3_train/labels/lrs3_train_transcript_lengths_seg16s.csv\"\n",
    "csv_path = \"/home/agent_h/data/datasets/autoavsr_lrs3_test/labels/lrs3_test_transcript_lengths_seg16s.csv\"\n",
    "\n",
    "tmp_df = pandas.read_csv(csv_path)\n",
    "dicts = tmp_df.to_dict('records')"
   ]
  },
  {
   "cell_type": "code",
   "execution_count": 17,
   "id": "36a80b36-f04d-4944-a79c-fe4ee2649a79",
   "metadata": {},
   "outputs": [
    {
     "name": "stdout",
     "output_type": "stream",
     "text": [
      "{'lrs3': 'lrs3', 'lrs3_video_seg16s/test/Sbm98rrVZzE/00001.mp4': 'lrs3_video_seg16s/test/YyXRYgjQXX0/00013.mp4', '27': 67, '1063 2550 3231 5037 2456': '4590 2 302 4056 2550 2 309 4469 1066 544 1054 3327 4244 407 713 4154 407'}\n",
      "14\n"
     ]
    }
   ],
   "source": [
    "print(dicts[0])\n",
    "lengths = [x['27'] for x in dicts]\n",
    "print(min(lengths))"
   ]
  },
  {
   "cell_type": "code",
   "execution_count": 2,
   "id": "52ee154c-b8bf-436a-9b7a-b3f3cdee64b7",
   "metadata": {},
   "outputs": [
    {
     "name": "stdout",
     "output_type": "stream",
     "text": [
      "CUDA_VISIBLE_DEVICES=0 python preprocess_lrs2lrs3_v2.py --data-dir /home/agent_h/data/datasets/lrs3_bili_splitted/ --detector retinaface --root-dir /home/agent_h/data/datasets/autoavsr_bili_splitted/ --dataset lrs3 --gpu_type cuda --subset test --seg-duration 16 --groups 64 --job-index 0 &\n",
      "CUDA_VISIBLE_DEVICES=1 python preprocess_lrs2lrs3_v2.py --data-dir /home/agent_h/data/datasets/lrs3_bili_splitted/ --detector retinaface --root-dir /home/agent_h/data/datasets/autoavsr_bili_splitted/ --dataset lrs3 --gpu_type cuda --subset test --seg-duration 16 --groups 64 --job-index 1 &\n",
      "CUDA_VISIBLE_DEVICES=2 python preprocess_lrs2lrs3_v2.py --data-dir /home/agent_h/data/datasets/lrs3_bili_splitted/ --detector retinaface --root-dir /home/agent_h/data/datasets/autoavsr_bili_splitted/ --dataset lrs3 --gpu_type cuda --subset test --seg-duration 16 --groups 64 --job-index 2 &\n",
      "CUDA_VISIBLE_DEVICES=3 python preprocess_lrs2lrs3_v2.py --data-dir /home/agent_h/data/datasets/lrs3_bili_splitted/ --detector retinaface --root-dir /home/agent_h/data/datasets/autoavsr_bili_splitted/ --dataset lrs3 --gpu_type cuda --subset test --seg-duration 16 --groups 64 --job-index 3 &\n",
      "CUDA_VISIBLE_DEVICES=4 python preprocess_lrs2lrs3_v2.py --data-dir /home/agent_h/data/datasets/lrs3_bili_splitted/ --detector retinaface --root-dir /home/agent_h/data/datasets/autoavsr_bili_splitted/ --dataset lrs3 --gpu_type cuda --subset test --seg-duration 16 --groups 64 --job-index 4 &\n",
      "CUDA_VISIBLE_DEVICES=5 python preprocess_lrs2lrs3_v2.py --data-dir /home/agent_h/data/datasets/lrs3_bili_splitted/ --detector retinaface --root-dir /home/agent_h/data/datasets/autoavsr_bili_splitted/ --dataset lrs3 --gpu_type cuda --subset test --seg-duration 16 --groups 64 --job-index 5 &\n",
      "CUDA_VISIBLE_DEVICES=6 python preprocess_lrs2lrs3_v2.py --data-dir /home/agent_h/data/datasets/lrs3_bili_splitted/ --detector retinaface --root-dir /home/agent_h/data/datasets/autoavsr_bili_splitted/ --dataset lrs3 --gpu_type cuda --subset test --seg-duration 16 --groups 64 --job-index 6 &\n",
      "CUDA_VISIBLE_DEVICES=7 python preprocess_lrs2lrs3_v2.py --data-dir /home/agent_h/data/datasets/lrs3_bili_splitted/ --detector retinaface --root-dir /home/agent_h/data/datasets/autoavsr_bili_splitted/ --dataset lrs3 --gpu_type cuda --subset test --seg-duration 16 --groups 64 --job-index 7 &\n",
      "CUDA_VISIBLE_DEVICES=0 python preprocess_lrs2lrs3_v2.py --data-dir /home/agent_h/data/datasets/lrs3_bili_splitted/ --detector retinaface --root-dir /home/agent_h/data/datasets/autoavsr_bili_splitted/ --dataset lrs3 --gpu_type cuda --subset test --seg-duration 16 --groups 64 --job-index 8 &\n",
      "CUDA_VISIBLE_DEVICES=1 python preprocess_lrs2lrs3_v2.py --data-dir /home/agent_h/data/datasets/lrs3_bili_splitted/ --detector retinaface --root-dir /home/agent_h/data/datasets/autoavsr_bili_splitted/ --dataset lrs3 --gpu_type cuda --subset test --seg-duration 16 --groups 64 --job-index 9 &\n",
      "CUDA_VISIBLE_DEVICES=2 python preprocess_lrs2lrs3_v2.py --data-dir /home/agent_h/data/datasets/lrs3_bili_splitted/ --detector retinaface --root-dir /home/agent_h/data/datasets/autoavsr_bili_splitted/ --dataset lrs3 --gpu_type cuda --subset test --seg-duration 16 --groups 64 --job-index 10 &\n",
      "CUDA_VISIBLE_DEVICES=3 python preprocess_lrs2lrs3_v2.py --data-dir /home/agent_h/data/datasets/lrs3_bili_splitted/ --detector retinaface --root-dir /home/agent_h/data/datasets/autoavsr_bili_splitted/ --dataset lrs3 --gpu_type cuda --subset test --seg-duration 16 --groups 64 --job-index 11 &\n",
      "CUDA_VISIBLE_DEVICES=4 python preprocess_lrs2lrs3_v2.py --data-dir /home/agent_h/data/datasets/lrs3_bili_splitted/ --detector retinaface --root-dir /home/agent_h/data/datasets/autoavsr_bili_splitted/ --dataset lrs3 --gpu_type cuda --subset test --seg-duration 16 --groups 64 --job-index 12 &\n",
      "CUDA_VISIBLE_DEVICES=5 python preprocess_lrs2lrs3_v2.py --data-dir /home/agent_h/data/datasets/lrs3_bili_splitted/ --detector retinaface --root-dir /home/agent_h/data/datasets/autoavsr_bili_splitted/ --dataset lrs3 --gpu_type cuda --subset test --seg-duration 16 --groups 64 --job-index 13 &\n",
      "CUDA_VISIBLE_DEVICES=6 python preprocess_lrs2lrs3_v2.py --data-dir /home/agent_h/data/datasets/lrs3_bili_splitted/ --detector retinaface --root-dir /home/agent_h/data/datasets/autoavsr_bili_splitted/ --dataset lrs3 --gpu_type cuda --subset test --seg-duration 16 --groups 64 --job-index 14 &\n",
      "CUDA_VISIBLE_DEVICES=7 python preprocess_lrs2lrs3_v2.py --data-dir /home/agent_h/data/datasets/lrs3_bili_splitted/ --detector retinaface --root-dir /home/agent_h/data/datasets/autoavsr_bili_splitted/ --dataset lrs3 --gpu_type cuda --subset test --seg-duration 16 --groups 64 --job-index 15 &\n",
      "CUDA_VISIBLE_DEVICES=0 python preprocess_lrs2lrs3_v2.py --data-dir /home/agent_h/data/datasets/lrs3_bili_splitted/ --detector retinaface --root-dir /home/agent_h/data/datasets/autoavsr_bili_splitted/ --dataset lrs3 --gpu_type cuda --subset test --seg-duration 16 --groups 64 --job-index 16 &\n",
      "CUDA_VISIBLE_DEVICES=1 python preprocess_lrs2lrs3_v2.py --data-dir /home/agent_h/data/datasets/lrs3_bili_splitted/ --detector retinaface --root-dir /home/agent_h/data/datasets/autoavsr_bili_splitted/ --dataset lrs3 --gpu_type cuda --subset test --seg-duration 16 --groups 64 --job-index 17 &\n",
      "CUDA_VISIBLE_DEVICES=2 python preprocess_lrs2lrs3_v2.py --data-dir /home/agent_h/data/datasets/lrs3_bili_splitted/ --detector retinaface --root-dir /home/agent_h/data/datasets/autoavsr_bili_splitted/ --dataset lrs3 --gpu_type cuda --subset test --seg-duration 16 --groups 64 --job-index 18 &\n",
      "CUDA_VISIBLE_DEVICES=3 python preprocess_lrs2lrs3_v2.py --data-dir /home/agent_h/data/datasets/lrs3_bili_splitted/ --detector retinaface --root-dir /home/agent_h/data/datasets/autoavsr_bili_splitted/ --dataset lrs3 --gpu_type cuda --subset test --seg-duration 16 --groups 64 --job-index 19 &\n",
      "CUDA_VISIBLE_DEVICES=4 python preprocess_lrs2lrs3_v2.py --data-dir /home/agent_h/data/datasets/lrs3_bili_splitted/ --detector retinaface --root-dir /home/agent_h/data/datasets/autoavsr_bili_splitted/ --dataset lrs3 --gpu_type cuda --subset test --seg-duration 16 --groups 64 --job-index 20 &\n",
      "CUDA_VISIBLE_DEVICES=5 python preprocess_lrs2lrs3_v2.py --data-dir /home/agent_h/data/datasets/lrs3_bili_splitted/ --detector retinaface --root-dir /home/agent_h/data/datasets/autoavsr_bili_splitted/ --dataset lrs3 --gpu_type cuda --subset test --seg-duration 16 --groups 64 --job-index 21 &\n",
      "CUDA_VISIBLE_DEVICES=6 python preprocess_lrs2lrs3_v2.py --data-dir /home/agent_h/data/datasets/lrs3_bili_splitted/ --detector retinaface --root-dir /home/agent_h/data/datasets/autoavsr_bili_splitted/ --dataset lrs3 --gpu_type cuda --subset test --seg-duration 16 --groups 64 --job-index 22 &\n",
      "CUDA_VISIBLE_DEVICES=7 python preprocess_lrs2lrs3_v2.py --data-dir /home/agent_h/data/datasets/lrs3_bili_splitted/ --detector retinaface --root-dir /home/agent_h/data/datasets/autoavsr_bili_splitted/ --dataset lrs3 --gpu_type cuda --subset test --seg-duration 16 --groups 64 --job-index 23 &\n",
      "CUDA_VISIBLE_DEVICES=0 python preprocess_lrs2lrs3_v2.py --data-dir /home/agent_h/data/datasets/lrs3_bili_splitted/ --detector retinaface --root-dir /home/agent_h/data/datasets/autoavsr_bili_splitted/ --dataset lrs3 --gpu_type cuda --subset test --seg-duration 16 --groups 64 --job-index 24 &\n",
      "CUDA_VISIBLE_DEVICES=1 python preprocess_lrs2lrs3_v2.py --data-dir /home/agent_h/data/datasets/lrs3_bili_splitted/ --detector retinaface --root-dir /home/agent_h/data/datasets/autoavsr_bili_splitted/ --dataset lrs3 --gpu_type cuda --subset test --seg-duration 16 --groups 64 --job-index 25 &\n",
      "CUDA_VISIBLE_DEVICES=2 python preprocess_lrs2lrs3_v2.py --data-dir /home/agent_h/data/datasets/lrs3_bili_splitted/ --detector retinaface --root-dir /home/agent_h/data/datasets/autoavsr_bili_splitted/ --dataset lrs3 --gpu_type cuda --subset test --seg-duration 16 --groups 64 --job-index 26 &\n",
      "CUDA_VISIBLE_DEVICES=3 python preprocess_lrs2lrs3_v2.py --data-dir /home/agent_h/data/datasets/lrs3_bili_splitted/ --detector retinaface --root-dir /home/agent_h/data/datasets/autoavsr_bili_splitted/ --dataset lrs3 --gpu_type cuda --subset test --seg-duration 16 --groups 64 --job-index 27 &\n",
      "CUDA_VISIBLE_DEVICES=4 python preprocess_lrs2lrs3_v2.py --data-dir /home/agent_h/data/datasets/lrs3_bili_splitted/ --detector retinaface --root-dir /home/agent_h/data/datasets/autoavsr_bili_splitted/ --dataset lrs3 --gpu_type cuda --subset test --seg-duration 16 --groups 64 --job-index 28 &\n",
      "CUDA_VISIBLE_DEVICES=5 python preprocess_lrs2lrs3_v2.py --data-dir /home/agent_h/data/datasets/lrs3_bili_splitted/ --detector retinaface --root-dir /home/agent_h/data/datasets/autoavsr_bili_splitted/ --dataset lrs3 --gpu_type cuda --subset test --seg-duration 16 --groups 64 --job-index 29 &\n",
      "CUDA_VISIBLE_DEVICES=6 python preprocess_lrs2lrs3_v2.py --data-dir /home/agent_h/data/datasets/lrs3_bili_splitted/ --detector retinaface --root-dir /home/agent_h/data/datasets/autoavsr_bili_splitted/ --dataset lrs3 --gpu_type cuda --subset test --seg-duration 16 --groups 64 --job-index 30 &\n",
      "CUDA_VISIBLE_DEVICES=7 python preprocess_lrs2lrs3_v2.py --data-dir /home/agent_h/data/datasets/lrs3_bili_splitted/ --detector retinaface --root-dir /home/agent_h/data/datasets/autoavsr_bili_splitted/ --dataset lrs3 --gpu_type cuda --subset test --seg-duration 16 --groups 64 --job-index 31 &\n",
      "CUDA_VISIBLE_DEVICES=0 python preprocess_lrs2lrs3_v2.py --data-dir /home/agent_h/data/datasets/lrs3_bili_splitted/ --detector retinaface --root-dir /home/agent_h/data/datasets/autoavsr_bili_splitted/ --dataset lrs3 --gpu_type cuda --subset test --seg-duration 16 --groups 64 --job-index 32 &\n",
      "CUDA_VISIBLE_DEVICES=1 python preprocess_lrs2lrs3_v2.py --data-dir /home/agent_h/data/datasets/lrs3_bili_splitted/ --detector retinaface --root-dir /home/agent_h/data/datasets/autoavsr_bili_splitted/ --dataset lrs3 --gpu_type cuda --subset test --seg-duration 16 --groups 64 --job-index 33 &\n",
      "CUDA_VISIBLE_DEVICES=2 python preprocess_lrs2lrs3_v2.py --data-dir /home/agent_h/data/datasets/lrs3_bili_splitted/ --detector retinaface --root-dir /home/agent_h/data/datasets/autoavsr_bili_splitted/ --dataset lrs3 --gpu_type cuda --subset test --seg-duration 16 --groups 64 --job-index 34 &\n",
      "CUDA_VISIBLE_DEVICES=3 python preprocess_lrs2lrs3_v2.py --data-dir /home/agent_h/data/datasets/lrs3_bili_splitted/ --detector retinaface --root-dir /home/agent_h/data/datasets/autoavsr_bili_splitted/ --dataset lrs3 --gpu_type cuda --subset test --seg-duration 16 --groups 64 --job-index 35 &\n",
      "CUDA_VISIBLE_DEVICES=4 python preprocess_lrs2lrs3_v2.py --data-dir /home/agent_h/data/datasets/lrs3_bili_splitted/ --detector retinaface --root-dir /home/agent_h/data/datasets/autoavsr_bili_splitted/ --dataset lrs3 --gpu_type cuda --subset test --seg-duration 16 --groups 64 --job-index 36 &\n",
      "CUDA_VISIBLE_DEVICES=5 python preprocess_lrs2lrs3_v2.py --data-dir /home/agent_h/data/datasets/lrs3_bili_splitted/ --detector retinaface --root-dir /home/agent_h/data/datasets/autoavsr_bili_splitted/ --dataset lrs3 --gpu_type cuda --subset test --seg-duration 16 --groups 64 --job-index 37 &\n",
      "CUDA_VISIBLE_DEVICES=6 python preprocess_lrs2lrs3_v2.py --data-dir /home/agent_h/data/datasets/lrs3_bili_splitted/ --detector retinaface --root-dir /home/agent_h/data/datasets/autoavsr_bili_splitted/ --dataset lrs3 --gpu_type cuda --subset test --seg-duration 16 --groups 64 --job-index 38 &\n",
      "CUDA_VISIBLE_DEVICES=7 python preprocess_lrs2lrs3_v2.py --data-dir /home/agent_h/data/datasets/lrs3_bili_splitted/ --detector retinaface --root-dir /home/agent_h/data/datasets/autoavsr_bili_splitted/ --dataset lrs3 --gpu_type cuda --subset test --seg-duration 16 --groups 64 --job-index 39 &\n",
      "CUDA_VISIBLE_DEVICES=0 python preprocess_lrs2lrs3_v2.py --data-dir /home/agent_h/data/datasets/lrs3_bili_splitted/ --detector retinaface --root-dir /home/agent_h/data/datasets/autoavsr_bili_splitted/ --dataset lrs3 --gpu_type cuda --subset test --seg-duration 16 --groups 64 --job-index 40 &\n",
      "CUDA_VISIBLE_DEVICES=1 python preprocess_lrs2lrs3_v2.py --data-dir /home/agent_h/data/datasets/lrs3_bili_splitted/ --detector retinaface --root-dir /home/agent_h/data/datasets/autoavsr_bili_splitted/ --dataset lrs3 --gpu_type cuda --subset test --seg-duration 16 --groups 64 --job-index 41 &\n",
      "CUDA_VISIBLE_DEVICES=2 python preprocess_lrs2lrs3_v2.py --data-dir /home/agent_h/data/datasets/lrs3_bili_splitted/ --detector retinaface --root-dir /home/agent_h/data/datasets/autoavsr_bili_splitted/ --dataset lrs3 --gpu_type cuda --subset test --seg-duration 16 --groups 64 --job-index 42 &\n",
      "CUDA_VISIBLE_DEVICES=3 python preprocess_lrs2lrs3_v2.py --data-dir /home/agent_h/data/datasets/lrs3_bili_splitted/ --detector retinaface --root-dir /home/agent_h/data/datasets/autoavsr_bili_splitted/ --dataset lrs3 --gpu_type cuda --subset test --seg-duration 16 --groups 64 --job-index 43 &\n",
      "CUDA_VISIBLE_DEVICES=4 python preprocess_lrs2lrs3_v2.py --data-dir /home/agent_h/data/datasets/lrs3_bili_splitted/ --detector retinaface --root-dir /home/agent_h/data/datasets/autoavsr_bili_splitted/ --dataset lrs3 --gpu_type cuda --subset test --seg-duration 16 --groups 64 --job-index 44 &\n",
      "CUDA_VISIBLE_DEVICES=5 python preprocess_lrs2lrs3_v2.py --data-dir /home/agent_h/data/datasets/lrs3_bili_splitted/ --detector retinaface --root-dir /home/agent_h/data/datasets/autoavsr_bili_splitted/ --dataset lrs3 --gpu_type cuda --subset test --seg-duration 16 --groups 64 --job-index 45 &\n",
      "CUDA_VISIBLE_DEVICES=6 python preprocess_lrs2lrs3_v2.py --data-dir /home/agent_h/data/datasets/lrs3_bili_splitted/ --detector retinaface --root-dir /home/agent_h/data/datasets/autoavsr_bili_splitted/ --dataset lrs3 --gpu_type cuda --subset test --seg-duration 16 --groups 64 --job-index 46 &\n",
      "CUDA_VISIBLE_DEVICES=7 python preprocess_lrs2lrs3_v2.py --data-dir /home/agent_h/data/datasets/lrs3_bili_splitted/ --detector retinaface --root-dir /home/agent_h/data/datasets/autoavsr_bili_splitted/ --dataset lrs3 --gpu_type cuda --subset test --seg-duration 16 --groups 64 --job-index 47 &\n",
      "CUDA_VISIBLE_DEVICES=0 python preprocess_lrs2lrs3_v2.py --data-dir /home/agent_h/data/datasets/lrs3_bili_splitted/ --detector retinaface --root-dir /home/agent_h/data/datasets/autoavsr_bili_splitted/ --dataset lrs3 --gpu_type cuda --subset test --seg-duration 16 --groups 64 --job-index 48 &\n",
      "CUDA_VISIBLE_DEVICES=1 python preprocess_lrs2lrs3_v2.py --data-dir /home/agent_h/data/datasets/lrs3_bili_splitted/ --detector retinaface --root-dir /home/agent_h/data/datasets/autoavsr_bili_splitted/ --dataset lrs3 --gpu_type cuda --subset test --seg-duration 16 --groups 64 --job-index 49 &\n",
      "CUDA_VISIBLE_DEVICES=2 python preprocess_lrs2lrs3_v2.py --data-dir /home/agent_h/data/datasets/lrs3_bili_splitted/ --detector retinaface --root-dir /home/agent_h/data/datasets/autoavsr_bili_splitted/ --dataset lrs3 --gpu_type cuda --subset test --seg-duration 16 --groups 64 --job-index 50 &\n",
      "CUDA_VISIBLE_DEVICES=3 python preprocess_lrs2lrs3_v2.py --data-dir /home/agent_h/data/datasets/lrs3_bili_splitted/ --detector retinaface --root-dir /home/agent_h/data/datasets/autoavsr_bili_splitted/ --dataset lrs3 --gpu_type cuda --subset test --seg-duration 16 --groups 64 --job-index 51 &\n",
      "CUDA_VISIBLE_DEVICES=4 python preprocess_lrs2lrs3_v2.py --data-dir /home/agent_h/data/datasets/lrs3_bili_splitted/ --detector retinaface --root-dir /home/agent_h/data/datasets/autoavsr_bili_splitted/ --dataset lrs3 --gpu_type cuda --subset test --seg-duration 16 --groups 64 --job-index 52 &\n",
      "CUDA_VISIBLE_DEVICES=5 python preprocess_lrs2lrs3_v2.py --data-dir /home/agent_h/data/datasets/lrs3_bili_splitted/ --detector retinaface --root-dir /home/agent_h/data/datasets/autoavsr_bili_splitted/ --dataset lrs3 --gpu_type cuda --subset test --seg-duration 16 --groups 64 --job-index 53 &\n",
      "CUDA_VISIBLE_DEVICES=6 python preprocess_lrs2lrs3_v2.py --data-dir /home/agent_h/data/datasets/lrs3_bili_splitted/ --detector retinaface --root-dir /home/agent_h/data/datasets/autoavsr_bili_splitted/ --dataset lrs3 --gpu_type cuda --subset test --seg-duration 16 --groups 64 --job-index 54 &\n",
      "CUDA_VISIBLE_DEVICES=7 python preprocess_lrs2lrs3_v2.py --data-dir /home/agent_h/data/datasets/lrs3_bili_splitted/ --detector retinaface --root-dir /home/agent_h/data/datasets/autoavsr_bili_splitted/ --dataset lrs3 --gpu_type cuda --subset test --seg-duration 16 --groups 64 --job-index 55 &\n",
      "CUDA_VISIBLE_DEVICES=0 python preprocess_lrs2lrs3_v2.py --data-dir /home/agent_h/data/datasets/lrs3_bili_splitted/ --detector retinaface --root-dir /home/agent_h/data/datasets/autoavsr_bili_splitted/ --dataset lrs3 --gpu_type cuda --subset test --seg-duration 16 --groups 64 --job-index 56 &\n",
      "CUDA_VISIBLE_DEVICES=1 python preprocess_lrs2lrs3_v2.py --data-dir /home/agent_h/data/datasets/lrs3_bili_splitted/ --detector retinaface --root-dir /home/agent_h/data/datasets/autoavsr_bili_splitted/ --dataset lrs3 --gpu_type cuda --subset test --seg-duration 16 --groups 64 --job-index 57 &\n",
      "CUDA_VISIBLE_DEVICES=2 python preprocess_lrs2lrs3_v2.py --data-dir /home/agent_h/data/datasets/lrs3_bili_splitted/ --detector retinaface --root-dir /home/agent_h/data/datasets/autoavsr_bili_splitted/ --dataset lrs3 --gpu_type cuda --subset test --seg-duration 16 --groups 64 --job-index 58 &\n",
      "CUDA_VISIBLE_DEVICES=3 python preprocess_lrs2lrs3_v2.py --data-dir /home/agent_h/data/datasets/lrs3_bili_splitted/ --detector retinaface --root-dir /home/agent_h/data/datasets/autoavsr_bili_splitted/ --dataset lrs3 --gpu_type cuda --subset test --seg-duration 16 --groups 64 --job-index 59 &\n",
      "CUDA_VISIBLE_DEVICES=4 python preprocess_lrs2lrs3_v2.py --data-dir /home/agent_h/data/datasets/lrs3_bili_splitted/ --detector retinaface --root-dir /home/agent_h/data/datasets/autoavsr_bili_splitted/ --dataset lrs3 --gpu_type cuda --subset test --seg-duration 16 --groups 64 --job-index 60 &\n",
      "CUDA_VISIBLE_DEVICES=5 python preprocess_lrs2lrs3_v2.py --data-dir /home/agent_h/data/datasets/lrs3_bili_splitted/ --detector retinaface --root-dir /home/agent_h/data/datasets/autoavsr_bili_splitted/ --dataset lrs3 --gpu_type cuda --subset test --seg-duration 16 --groups 64 --job-index 61 &\n",
      "CUDA_VISIBLE_DEVICES=6 python preprocess_lrs2lrs3_v2.py --data-dir /home/agent_h/data/datasets/lrs3_bili_splitted/ --detector retinaface --root-dir /home/agent_h/data/datasets/autoavsr_bili_splitted/ --dataset lrs3 --gpu_type cuda --subset test --seg-duration 16 --groups 64 --job-index 62 &\n",
      "CUDA_VISIBLE_DEVICES=7 python preprocess_lrs2lrs3_v2.py --data-dir /home/agent_h/data/datasets/lrs3_bili_splitted/ --detector retinaface --root-dir /home/agent_h/data/datasets/autoavsr_bili_splitted/ --dataset lrs3 --gpu_type cuda --subset test --seg-duration 16 --groups 64 --job-index 63 &\n"
     ]
    }
   ],
   "source": [
    "video_path = \"/home/agent_h/data/datasets/facetalk_lrs3_v2/video/test_000000/0ZfSOArXbGQ_00003.mp4\"\n",
    "for i in range(64):\n",
    "    # print(f\"python preprocess_lrs2lrs3.py --data-dir /home/agent_h/data/datasets/lrs3/ --landmarks-dir /home/agent_h/data/datasets/LRS3_landmarks/ --detector retinaface --root-dir /home/agent_h/data/datasets/autoavsr_lrs3 --dataset lrs3 --gpu_type cuda --subset train --seg-duration 16 --groups 64 --job-index {i} &\")\n",
    "    print(f\"CUDA_VISIBLE_DEVICES={i%8} python preprocess_lrs2lrs3_v2.py --data-dir /home/agent_h/data/datasets/lrs3_bili_splitted/ --detector retinaface --root-dir /home/agent_h/data/datasets/autoavsr_bili_splitted/ --dataset lrs3 --gpu_type cuda --subset test --seg-duration 16 --groups 64 --job-index {i} &\")\n",
    "\n",
    "    "
   ]
  },
  {
   "cell_type": "code",
   "execution_count": 2,
   "id": "48acf109-61b3-4cbd-b94d-ef8d6ca23014",
   "metadata": {},
   "outputs": [
    {
     "ename": "DECORDError",
     "evalue": "[23:18:10] /github/workspace/src/video/video_reader.cc:167: CUDA not enabled. Requested context GPU(0).",
     "output_type": "error",
     "traceback": [
      "\u001b[0;31m---------------------------------------------------------------------------\u001b[0m",
      "\u001b[0;31mDECORDError\u001b[0m                               Traceback (most recent call last)",
      "Cell \u001b[0;32mIn[2], line 20\u001b[0m\n\u001b[1;32m     17\u001b[0m     frames_np \u001b[38;5;241m=\u001b[39m frames\u001b[38;5;241m.\u001b[39masnumpy()  \u001b[38;5;66;03m# shape: (T, H, W, 3)\u001b[39;00m\n\u001b[1;32m     19\u001b[0m     \u001b[38;5;28;01mreturn\u001b[39;00m frames_np\n\u001b[0;32m---> 20\u001b[0m \u001b[43mfast_video_read_gpu\u001b[49m\u001b[43m(\u001b[49m\u001b[38;5;124;43m\"\u001b[39;49m\u001b[38;5;124;43m/home/agent_h/data/datasets/facetalk_lrs3_v2/video/test_000000/0Fi83BHQsMA_00002.mp4\u001b[39;49m\u001b[38;5;124;43m\"\u001b[39;49m\u001b[43m)\u001b[49m\n",
      "Cell \u001b[0;32mIn[2], line 7\u001b[0m, in \u001b[0;36mfast_video_read_gpu\u001b[0;34m(video_path, device_id)\u001b[0m\n\u001b[1;32m      6\u001b[0m \u001b[38;5;28;01mdef\u001b[39;00m \u001b[38;5;21mfast_video_read_gpu\u001b[39m(video_path, device_id\u001b[38;5;241m=\u001b[39m\u001b[38;5;241m0\u001b[39m):\n\u001b[0;32m----> 7\u001b[0m     vr \u001b[38;5;241m=\u001b[39m \u001b[43mVideoReader\u001b[49m\u001b[43m(\u001b[49m\u001b[43mvideo_path\u001b[49m\u001b[43m,\u001b[49m\u001b[43m \u001b[49m\u001b[43mctx\u001b[49m\u001b[38;5;241;43m=\u001b[39;49m\u001b[43mgpu\u001b[49m\u001b[43m(\u001b[49m\u001b[43mdevice_id\u001b[49m\u001b[43m)\u001b[49m\u001b[43m)\u001b[49m\n\u001b[1;32m      9\u001b[0m     \u001b[38;5;66;03m# Retrieve all frames in a single batch\u001b[39;00m\n\u001b[1;32m     10\u001b[0m     \u001b[38;5;66;03m# (You can also slice or pick specific indices for partial reading)\u001b[39;00m\n\u001b[1;32m     11\u001b[0m     frames \u001b[38;5;241m=\u001b[39m vr\u001b[38;5;241m.\u001b[39mget_batch(\u001b[38;5;28mrange\u001b[39m(\u001b[38;5;28mlen\u001b[39m(vr)))\n",
      "File \u001b[0;32m~/miniconda3/envs/ft/lib/python3.12/site-packages/decord/video_reader.py:54\u001b[0m, in \u001b[0;36mVideoReader.__init__\u001b[0;34m(self, uri, ctx, width, height, num_threads, fault_tol)\u001b[0m\n\u001b[1;32m     51\u001b[0m     \u001b[38;5;28mself\u001b[39m\u001b[38;5;241m.\u001b[39m_handle \u001b[38;5;241m=\u001b[39m _CAPI_VideoReaderGetVideoReader(\n\u001b[1;32m     52\u001b[0m         ba, ctx\u001b[38;5;241m.\u001b[39mdevice_type, ctx\u001b[38;5;241m.\u001b[39mdevice_id, width, height, num_threads, \u001b[38;5;241m2\u001b[39m, fault_tol)\n\u001b[1;32m     53\u001b[0m \u001b[38;5;28;01melse\u001b[39;00m:\n\u001b[0;32m---> 54\u001b[0m     \u001b[38;5;28mself\u001b[39m\u001b[38;5;241m.\u001b[39m_handle \u001b[38;5;241m=\u001b[39m \u001b[43m_CAPI_VideoReaderGetVideoReader\u001b[49m\u001b[43m(\u001b[49m\n\u001b[1;32m     55\u001b[0m \u001b[43m        \u001b[49m\u001b[43muri\u001b[49m\u001b[43m,\u001b[49m\u001b[43m \u001b[49m\u001b[43mctx\u001b[49m\u001b[38;5;241;43m.\u001b[39;49m\u001b[43mdevice_type\u001b[49m\u001b[43m,\u001b[49m\u001b[43m \u001b[49m\u001b[43mctx\u001b[49m\u001b[38;5;241;43m.\u001b[39;49m\u001b[43mdevice_id\u001b[49m\u001b[43m,\u001b[49m\u001b[43m \u001b[49m\u001b[43mwidth\u001b[49m\u001b[43m,\u001b[49m\u001b[43m \u001b[49m\u001b[43mheight\u001b[49m\u001b[43m,\u001b[49m\u001b[43m \u001b[49m\u001b[43mnum_threads\u001b[49m\u001b[43m,\u001b[49m\u001b[43m \u001b[49m\u001b[38;5;241;43m0\u001b[39;49m\u001b[43m,\u001b[49m\u001b[43m \u001b[49m\u001b[43mfault_tol\u001b[49m\u001b[43m)\u001b[49m\n\u001b[1;32m     56\u001b[0m \u001b[38;5;28;01mif\u001b[39;00m \u001b[38;5;28mself\u001b[39m\u001b[38;5;241m.\u001b[39m_handle \u001b[38;5;129;01mis\u001b[39;00m \u001b[38;5;28;01mNone\u001b[39;00m:\n\u001b[1;32m     57\u001b[0m     \u001b[38;5;28;01mraise\u001b[39;00m \u001b[38;5;167;01mRuntimeError\u001b[39;00m(\u001b[38;5;124m\"\u001b[39m\u001b[38;5;124mError reading \u001b[39m\u001b[38;5;124m\"\u001b[39m \u001b[38;5;241m+\u001b[39m uri \u001b[38;5;241m+\u001b[39m \u001b[38;5;124m\"\u001b[39m\u001b[38;5;124m...\u001b[39m\u001b[38;5;124m\"\u001b[39m)\n",
      "File \u001b[0;32m~/miniconda3/envs/ft/lib/python3.12/site-packages/decord/_ffi/_ctypes/function.py:173\u001b[0m, in \u001b[0;36mFunctionBase.__call__\u001b[0;34m(self, *args)\u001b[0m\n\u001b[1;32m    171\u001b[0m ret_val \u001b[38;5;241m=\u001b[39m DECORDValue()\n\u001b[1;32m    172\u001b[0m ret_tcode \u001b[38;5;241m=\u001b[39m ctypes\u001b[38;5;241m.\u001b[39mc_int()\n\u001b[0;32m--> 173\u001b[0m \u001b[43mcheck_call\u001b[49m\u001b[43m(\u001b[49m\u001b[43m_LIB\u001b[49m\u001b[38;5;241;43m.\u001b[39;49m\u001b[43mDECORDFuncCall\u001b[49m\u001b[43m(\u001b[49m\n\u001b[1;32m    174\u001b[0m \u001b[43m    \u001b[49m\u001b[38;5;28;43mself\u001b[39;49m\u001b[38;5;241;43m.\u001b[39;49m\u001b[43mhandle\u001b[49m\u001b[43m,\u001b[49m\u001b[43m \u001b[49m\u001b[43mvalues\u001b[49m\u001b[43m,\u001b[49m\u001b[43m \u001b[49m\u001b[43mtcodes\u001b[49m\u001b[43m,\u001b[49m\u001b[43m \u001b[49m\u001b[43mctypes\u001b[49m\u001b[38;5;241;43m.\u001b[39;49m\u001b[43mc_int\u001b[49m\u001b[43m(\u001b[49m\u001b[43mnum_args\u001b[49m\u001b[43m)\u001b[49m\u001b[43m,\u001b[49m\n\u001b[1;32m    175\u001b[0m \u001b[43m    \u001b[49m\u001b[43mctypes\u001b[49m\u001b[38;5;241;43m.\u001b[39;49m\u001b[43mbyref\u001b[49m\u001b[43m(\u001b[49m\u001b[43mret_val\u001b[49m\u001b[43m)\u001b[49m\u001b[43m,\u001b[49m\u001b[43m \u001b[49m\u001b[43mctypes\u001b[49m\u001b[38;5;241;43m.\u001b[39;49m\u001b[43mbyref\u001b[49m\u001b[43m(\u001b[49m\u001b[43mret_tcode\u001b[49m\u001b[43m)\u001b[49m\u001b[43m)\u001b[49m\u001b[43m)\u001b[49m\n\u001b[1;32m    176\u001b[0m _ \u001b[38;5;241m=\u001b[39m temp_args\n\u001b[1;32m    177\u001b[0m _ \u001b[38;5;241m=\u001b[39m args\n",
      "File \u001b[0;32m~/miniconda3/envs/ft/lib/python3.12/site-packages/decord/_ffi/base.py:78\u001b[0m, in \u001b[0;36mcheck_call\u001b[0;34m(ret)\u001b[0m\n\u001b[1;32m     76\u001b[0m         err_str \u001b[38;5;241m=\u001b[39m err_str\u001b[38;5;241m.\u001b[39msplit(\u001b[38;5;124m'\u001b[39m\u001b[38;5;124mStack trace\u001b[39m\u001b[38;5;124m'\u001b[39m)[\u001b[38;5;241m0\u001b[39m]\u001b[38;5;241m.\u001b[39mstrip()\n\u001b[1;32m     77\u001b[0m     \u001b[38;5;28;01mraise\u001b[39;00m DECORDLimitReachedError(err_str)\n\u001b[0;32m---> 78\u001b[0m \u001b[38;5;28;01mraise\u001b[39;00m DECORDError(err_str)\n",
      "\u001b[0;31mDECORDError\u001b[0m: [23:18:10] /github/workspace/src/video/video_reader.cc:167: CUDA not enabled. Requested context GPU(0)."
     ]
    }
   ],
   "source": [
    "import decord\n",
    "from decord import VideoReader, gpu\n",
    "import numpy as np\n",
    "\n",
    "# Initialize the video reader with GPU context\n",
    "def fast_video_read_gpu(video_path, device_id=0):\n",
    "    vr = VideoReader(video_path, ctx=gpu(device_id))\n",
    "\n",
    "    # Retrieve all frames in a single batch\n",
    "    # (You can also slice or pick specific indices for partial reading)\n",
    "    frames = vr.get_batch(range(len(vr)))\n",
    "\n",
    "    # frames is a decord.VideoLoaderNDArray: shape [T, H, W, C]\n",
    "    # by default, decord loads in HWC with RGB pixel format\n",
    "\n",
    "    # If you need a NumPy array on the CPU:\n",
    "    frames_np = frames.asnumpy()  # shape: (T, H, W, 3)\n",
    "\n",
    "    return frames_np\n",
    "fast_video_read_gpu(\"/home/agent_h/data/datasets/facetalk_lrs3_v2/video/test_000000/0Fi83BHQsMA_00002.mp4\")"
   ]
  },
  {
   "cell_type": "code",
   "execution_count": 5,
   "id": "7f737eaf-4ac0-4a9e-92f0-8e8d2229fcf3",
   "metadata": {},
   "outputs": [
    {
     "name": "stdout",
     "output_type": "stream",
     "text": [
      "\u001b[31mERROR: Could not find a version that satisfies the requirement decord-cu123 (from versions: none)\u001b[0m\u001b[31m\n",
      "\u001b[0m\u001b[31mERROR: No matching distribution found for decord-cu123\u001b[0m\u001b[31m\n",
      "\u001b[0mNote: you may need to restart the kernel to use updated packages.\n"
     ]
    }
   ],
   "source": [
    "pip install decord-cu1"
   ]
  },
  {
   "cell_type": "code",
   "execution_count": 10,
   "id": "4d882c6c-27de-4cad-8f2d-4d3057a89ecd",
   "metadata": {},
   "outputs": [
    {
     "name": "stdout",
     "output_type": "stream",
     "text": [
      "/home/agent_h/data/datasets/lrs3_bili_splitted/trainval/202307111016_bilibili_afeikathy_002_000011/202307111016_bilibili_afeikathy_002_000011.txt\n"
     ]
    },
    {
     "name": "stderr",
     "output_type": "stream",
     "text": [
      "100%|██████████████████████████████████████████████████████████████████████████████████████████████████████████████| 238526/238526 [00:34<00:00, 6958.53it/s]\n"
     ]
    }
   ],
   "source": [
    "# clean data\n",
    "from glob import glob\n",
    "from tqdm import tqdm\n",
    "all_txt_paths = glob(\"/home/agent_h/data/datasets/lrs3_bili_splitted/**/*.txt\",recursive=True)\n",
    "print(all_txt_paths[0])\n",
    "for txt_path in tqdm(all_txt_paths):\n",
    "    with open(txt_path) as f:\n",
    "        lines = f.readlines()\n",
    "    # print(lines)\n",
    "    new_lines = \"\"\n",
    "    for line_idx,line in enumerate(lines):\n",
    "        line = \"\".join(ch for ch in line if ch.isascii())\n",
    "        if line_idx <= 2:\n",
    "            new_lines += line.upper()\n",
    "        else:\n",
    "            data = line.split(\" \")\n",
    "            if len(data) == 4:\n",
    "                new_lines += line.upper()\n",
    "            if len(data) !=4:\n",
    "                # # print(data)\n",
    "                word = \"\".join(data[:-3])\n",
    "                word = word.replace(\" \",\"\")\n",
    "                if word:\n",
    "                    new_line = \" \".join([word,data[-3],data[-2],data[-1]])\n",
    "                    new_lines += new_line.upper()\n",
    "             \n",
    "        # break\n",
    "            \n",
    "    # print(new_lines)\n",
    "    with open(txt_path, 'w', encoding='utf-8') as f:\n",
    "        f.write(new_lines)\n",
    "    # break\n",
    "    \n",
    "                            \n",
    "\n",
    "\n"
   ]
  },
  {
   "cell_type": "code",
   "execution_count": 3,
   "id": "43ce5b82-67c4-4f5a-b48a-d1dfcf010176",
   "metadata": {},
   "outputs": [
    {
     "name": "stderr",
     "output_type": "stream",
     "text": [
      "100%|███████████████████████████████████████████████████████████████████████████████████████████████████████████████████| 4842/4842 [00:04<00:00, 994.46it/s]\n"
     ]
    }
   ],
   "source": [
    "# sampleing\n",
    "from tqdm import tqdm\n",
    "import random\n",
    "from glob import glob\n",
    "import os\n",
    "target = \"/home/agent_h/data/datasets/lrs3_bili_splitted_sampled/test\"\n",
    "for path in tqdm(glob(\"/home/agent_h/data/datasets/lrs3_bili_splitted/test/*\")):\n",
    "    if random.random()<0.1:\n",
    "        os.system(\"cp -r {} {}\".format(path,path.replace(\"/lrs3_bili_splitted/\",\"/lrs3_bili_splitted_sampled/\")))\n"
   ]
  },
  {
   "cell_type": "code",
   "execution_count": 34,
   "id": "53855670-1e27-4a45-8355-567217461bf0",
   "metadata": {},
   "outputs": [
    {
     "name": "stdout",
     "output_type": "stream",
     "text": [
      "47498\n"
     ]
    },
    {
     "name": "stderr",
     "output_type": "stream",
     "text": [
      "100%|█████████████████████████████████████████████████████████████████████████████████████████████████████████████████████████| 47498/47498 [00:23<00:00, 2026.26it/s]\n"
     ]
    }
   ],
   "source": [
    "# generate cropus\n",
    "from glob import glob\n",
    "from tqdm import tqdm\n",
    "\n",
    "all_text_paths = glob(\"/home/agent_h/data/datasets/lrs3_bili_splitted/**/*.txt\",recursive=True)\n",
    "print(len(all_text_paths))\n",
    "corpus_lines = \"\"\n",
    "for path in tqdm(all_text_paths):\n",
    "    with open(path) as f:\n",
    "        lines = f.readlines()\n",
    "    corpus_lines+=lines[0][6:]\n",
    "\n",
    "with open(\"../spm2/input.txt\", 'w', encoding='utf-8') as f:\n",
    "    f.write(corpus_lines)"
   ]
  },
  {
   "cell_type": "code",
   "execution_count": 32,
   "id": "0ef7b382-b462-477f-b3fd-926221187cf3",
   "metadata": {},
   "outputs": [
    {
     "name": "stdout",
     "output_type": "stream",
     "text": [
      "[' jiu hui kandao yixie bi jiao ke yu zhi de bu xuyao zheme duo gai bian de yixie huan jing le bu xuyao rang ziji jing chang bei zhe xie gai bian qu xiao hao nide neng liang zui hou women lai kan ruguo shi ying li chu xianzai le nide lie shi\\n', ' ranhou wang xia suan zhege zhong jie zhege fu kuan fang shi ne yeshi keyi he zhong jie tan de dui ranhou wojuede shi xi sheng shi zui hao ya yi fu yi ba bu ran ni zhong tu pao\\n', ' wu fa ti dai ren lei xie zuo de muqian de AI ying gai neng zuo dao shou ji zheng li jiu cuo de yixie neng li huozhe shuo xiang zhi neng ji qi ren yi yang jin xing\\n', ' yao guo du de da tan dui fang de jia ting lai cha shou dui fang de jia wu shi nishi ni tashi ta bao chi bi yao de jie xian gan mingbai le ma ruguo dou neng zuo dao name\\n', ' yinwei ta guo de shenghuo qishi shiwo da xue shi qi de meng xiao shihou kan lu xun ta jiu ling shuo le gao zhong deshihou wojiu kan le bu shao xiang shenme kong qing dong  yu jie  qian li xun zhi lei de shu zhege da xue shi ren shi de\\n', ' shi shi bie fu mu shen shang na xie bei tamen de shi dai he fu mu fu nv de cuo wu de guan nian yiji cuo wu de guan xi mo shi shui shuo mu qin yidingyao wu si wei da mu qin bushi ren ma mu qin meiyou ziji de xu qiu ma yi cheng\\n', ' wojuede you dian ke xi dan woye juede woyou dian shou shang yinwei ni qishi keyi keyi genwo shuo ma jiushi nikeyi women yong gou tong yong cheng nian ren de fang shi jie shi\\n', ' yinwei ta guo qu suo dajia dui yu K TV suo dai lai de zhe zhong yin xiang hui rang henduo gao su zhi deren cai meiyou jin ru zhege ling yu nikan henduo gao su zhi deren cai zai shenme jin rong a fa lv a tou zi a\\n', ' wo meiyou xiang dao zhong jian budao da ban nian ba da ban niande shijian dou meiyou chao guo jie guo zhege nan de jiu qu xun qiu le yige xin de dui xiang suoyi you deshihou a nv ren shi zheyang de nv ren ben shen ta jiushi yige feichang qing xu\\n', ' na yeshi keyi de zhiqian bushi te lang pu da ji zai mei guo liu xue de zhongguo li ke xue sheng ma juede women tou le tade ji shu qishi nizhidao zhe jianshiqing diyi ge zhan qi lai fan dui\\n']\n"
     ]
    }
   ],
   "source": []
  },
  {
   "cell_type": "code",
   "execution_count": null,
   "id": "33e60384-7282-41c3-a6ab-6a3d45110388",
   "metadata": {},
   "outputs": [],
   "source": []
  }
 ],
 "metadata": {
  "kernelspec": {
   "display_name": "Python 3 (ipykernel)",
   "language": "python",
   "name": "python3"
  },
  "language_info": {
   "codemirror_mode": {
    "name": "ipython",
    "version": 3
   },
   "file_extension": ".py",
   "mimetype": "text/x-python",
   "name": "python",
   "nbconvert_exporter": "python",
   "pygments_lexer": "ipython3",
   "version": "3.12.7"
  }
 },
 "nbformat": 4,
 "nbformat_minor": 5
}
